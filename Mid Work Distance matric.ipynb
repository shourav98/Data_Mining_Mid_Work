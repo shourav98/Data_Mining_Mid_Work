{
 "cells": [
  {
   "cell_type": "code",
   "execution_count": 184,
   "metadata": {},
   "outputs": [],
   "source": [
    "import pandas as pd"
   ]
  },
  {
   "cell_type": "code",
   "execution_count": 185,
   "metadata": {},
   "outputs": [],
   "source": [
    "df=pd.read_csv(\"D:\\Data_Mining/dataset_review.csv\")"
   ]
  },
  {
   "cell_type": "code",
   "execution_count": 186,
   "metadata": {},
   "outputs": [
    {
     "name": "stdout",
     "output_type": "stream",
     "text": [
      "    Book   p1   p2 p3   p4 p5   p6 p7   p8\n",
      "0  book1  3.5    2  5    3  -    -  5    3\n",
      "1  book2    2  3.5  1    4  4  4.5  2    -\n",
      "2  book3    -    4  1  4.5  1    4  -    -\n",
      "3  book4  4.5    -  3    -  4    5  3    5\n",
      "4  book5    5    2  5    3  -    5  5    4\n",
      "5  book6  1.5  3.5  1  4.5  -  4.5  4  2.5\n",
      "6  book7  2.5    -  -    4  4    4  5    3\n",
      "7  book8    2    3  -    2  1    4  -    -\n"
     ]
    }
   ],
   "source": [
    "print(df)"
   ]
  },
  {
   "cell_type": "code",
   "execution_count": 187,
   "metadata": {},
   "outputs": [
    {
     "name": "stdout",
     "output_type": "stream",
     "text": [
      "Index(['Book', 'p1', 'p2', 'p3', 'p4', 'p5', 'p6', 'p7', 'p8'], dtype='object')\n"
     ]
    }
   ],
   "source": [
    " print(df.columns)"
   ]
  },
  {
   "cell_type": "code",
   "execution_count": 188,
   "metadata": {},
   "outputs": [
    {
     "name": "stdout",
     "output_type": "stream",
     "text": [
      "Book    object\n",
      "p1      object\n",
      "p2      object\n",
      "p3      object\n",
      "p4      object\n",
      "p5      object\n",
      "p6      object\n",
      "p7      object\n",
      "p8      object\n",
      "dtype: object\n"
     ]
    }
   ],
   "source": [
    "print(df.dtypes)"
   ]
  },
  {
   "cell_type": "code",
   "execution_count": 189,
   "metadata": {},
   "outputs": [],
   "source": [
    "df_subset=df.replace('-',float(\"Nan\"))"
   ]
  },
  {
   "cell_type": "code",
   "execution_count": 190,
   "metadata": {},
   "outputs": [
    {
     "name": "stdout",
     "output_type": "stream",
     "text": [
      "    Book   p1   p2   p3   p4   p5   p6   p7   p8\n",
      "0  book1  3.5    2    5    3  NaN  NaN    5    3\n",
      "1  book2    2  3.5    1    4    4  4.5    2  NaN\n",
      "2  book3  NaN    4    1  4.5    1    4  NaN  NaN\n",
      "3  book4  4.5  NaN    3  NaN    4    5    3    5\n",
      "4  book5    5    2    5    3  NaN    5    5    4\n",
      "5  book6  1.5  3.5    1  4.5  NaN  4.5    4  2.5\n",
      "6  book7  2.5  NaN  NaN    4    4    4    5    3\n",
      "7  book8    2    3  NaN    2    1    4  NaN  NaN\n"
     ]
    }
   ],
   "source": [
    "print(df_subset)"
   ]
  },
  {
   "cell_type": "code",
   "execution_count": 191,
   "metadata": {},
   "outputs": [],
   "source": [
    "df2=df_subset[df_subset[\"p1\"].notnull()]\n"
   ]
  },
  {
   "cell_type": "code",
   "execution_count": 192,
   "metadata": {},
   "outputs": [
    {
     "name": "stdout",
     "output_type": "stream",
     "text": [
      "    Book   p1   p2   p3   p4   p5   p6   p7   p8\n",
      "0  book1  3.5    2    5    3  NaN  NaN    5    3\n",
      "1  book2    2  3.5    1    4    4  4.5    2  NaN\n",
      "3  book4  4.5  NaN    3  NaN    4    5    3    5\n",
      "4  book5    5    2    5    3  NaN    5    5    4\n",
      "5  book6  1.5  3.5    1  4.5  NaN  4.5    4  2.5\n",
      "6  book7  2.5  NaN  NaN    4    4    4    5    3\n",
      "7  book8    2    3  NaN    2    1    4  NaN  NaN\n"
     ]
    }
   ],
   "source": [
    "print(df2)"
   ]
  },
  {
   "cell_type": "code",
   "execution_count": 193,
   "metadata": {},
   "outputs": [],
   "source": [
    "df2=df_subset[df_subset[\"p2\"].notnull()]"
   ]
  },
  {
   "cell_type": "code",
   "execution_count": 194,
   "metadata": {},
   "outputs": [
    {
     "name": "stdout",
     "output_type": "stream",
     "text": [
      "    Book   p1   p2   p3   p4   p5   p6   p7   p8\n",
      "0  book1  3.5    2    5    3  NaN  NaN    5    3\n",
      "1  book2    2  3.5    1    4    4  4.5    2  NaN\n",
      "2  book3  NaN    4    1  4.5    1    4  NaN  NaN\n",
      "4  book5    5    2    5    3  NaN    5    5    4\n",
      "5  book6  1.5  3.5    1  4.5  NaN  4.5    4  2.5\n",
      "7  book8    2    3  NaN    2    1    4  NaN  NaN\n"
     ]
    }
   ],
   "source": [
    "print(df2)"
   ]
  },
  {
   "cell_type": "code",
   "execution_count": 195,
   "metadata": {},
   "outputs": [],
   "source": [
    "df2=df2[df2['p1'].notnull()]"
   ]
  },
  {
   "cell_type": "code",
   "execution_count": 196,
   "metadata": {},
   "outputs": [
    {
     "name": "stdout",
     "output_type": "stream",
     "text": [
      "    Book   p1   p2   p3   p4   p5   p6   p7   p8\n",
      "0  book1  3.5    2    5    3  NaN  NaN    5    3\n",
      "1  book2    2  3.5    1    4    4  4.5    2  NaN\n",
      "4  book5    5    2    5    3  NaN    5    5    4\n",
      "5  book6  1.5  3.5    1  4.5  NaN  4.5    4  2.5\n",
      "7  book8    2    3  NaN    2    1    4  NaN  NaN\n"
     ]
    }
   ],
   "source": [
    "print(df2)"
   ]
  },
  {
   "cell_type": "code",
   "execution_count": 197,
   "metadata": {},
   "outputs": [],
   "source": [
    "from scipy .spatial import distance"
   ]
  },
  {
   "cell_type": "code",
   "execution_count": 198,
   "metadata": {},
   "outputs": [],
   "source": [
    "from scipy.spatial.distance import cityblock"
   ]
  },
  {
   "cell_type": "code",
   "execution_count": 199,
   "metadata": {},
   "outputs": [],
   "source": [
    "Manhattan_distance_p1_p2=distance.cityblock(df2['p1'].astype(float),df2['p2'].astype(float))"
   ]
  },
  {
   "cell_type": "code",
   "execution_count": 200,
   "metadata": {},
   "outputs": [
    {
     "name": "stdout",
     "output_type": "stream",
     "text": [
      "9.0\n"
     ]
    }
   ],
   "source": [
    "print(Manhattan_distance_p1_p2)"
   ]
  },
  {
   "cell_type": "code",
   "execution_count": 201,
   "metadata": {},
   "outputs": [],
   "source": [
    "euclidean_distance_p1_p2=distance.euclidean(df2['p1'].astype(float),df2['p2'].astype(float))"
   ]
  },
  {
   "cell_type": "code",
   "execution_count": 204,
   "metadata": {},
   "outputs": [
    {
     "name": "stdout",
     "output_type": "stream",
     "text": [
      "4.301162633521313\n"
     ]
    }
   ],
   "source": [
    "print(euclidean_distance_p1_p2)"
   ]
  },
  {
   "cell_type": "code",
   "execution_count": 106,
   "metadata": {},
   "outputs": [],
   "source": [
    "df2=df_subset[df_subset[\"p1\"].notnull()]"
   ]
  },
  {
   "cell_type": "code",
   "execution_count": 107,
   "metadata": {},
   "outputs": [],
   "source": [
    "df2=df2[df2[\"p3\"].notnull()]"
   ]
  },
  {
   "cell_type": "code",
   "execution_count": 108,
   "metadata": {},
   "outputs": [
    {
     "name": "stdout",
     "output_type": "stream",
     "text": [
      "    Book   p1   p2 p3   p4   p5   p6 p7   p8\n",
      "0  book1  3.5    2  5    3  NaN  NaN  5    3\n",
      "1  book2    2  3.5  1    4    4  4.5  2  NaN\n",
      "3  book4  4.5  NaN  3  NaN    4    5  3    5\n",
      "4  book5    5    2  5    3  NaN    5  5    4\n",
      "5  book6  1.5  3.5  1  4.5  NaN  4.5  4  2.5\n"
     ]
    }
   ],
   "source": [
    "print(df2)"
   ]
  },
  {
   "cell_type": "code",
   "execution_count": 109,
   "metadata": {},
   "outputs": [],
   "source": [
    "Manhattan_distance_p1_p3=distance.cityblock(df2['p1'].astype(float),df2['p3'].astype(float))"
   ]
  },
  {
   "cell_type": "code",
   "execution_count": 110,
   "metadata": {},
   "outputs": [
    {
     "name": "stdout",
     "output_type": "stream",
     "text": [
      "4.5\n"
     ]
    }
   ],
   "source": [
    "print(Manhattan_distance_p1_p3)"
   ]
  },
  {
   "cell_type": "code",
   "execution_count": 111,
   "metadata": {},
   "outputs": [],
   "source": [
    "euclidean_distance_p1_p3=distance.euclidean(df2['p1'].astype(float),df2['p3'].astype(float))"
   ]
  },
  {
   "cell_type": "code",
   "execution_count": 112,
   "metadata": {},
   "outputs": [
    {
     "name": "stdout",
     "output_type": "stream",
     "text": [
      "2.3979157616563596\n"
     ]
    }
   ],
   "source": [
    "print(euclidean_distance_p1_p3)"
   ]
  },
  {
   "cell_type": "code",
   "execution_count": 113,
   "metadata": {},
   "outputs": [],
   "source": [
    "df2=df_subset[df_subset[\"p1\"].notnull()]"
   ]
  },
  {
   "cell_type": "code",
   "execution_count": 114,
   "metadata": {},
   "outputs": [],
   "source": [
    "df2=df2[df2[\"p4\"].notnull()]"
   ]
  },
  {
   "cell_type": "code",
   "execution_count": 115,
   "metadata": {},
   "outputs": [
    {
     "name": "stdout",
     "output_type": "stream",
     "text": [
      "    Book   p1   p2   p3   p4   p5   p6   p7   p8\n",
      "0  book1  3.5    2    5    3  NaN  NaN    5    3\n",
      "1  book2    2  3.5    1    4    4  4.5    2  NaN\n",
      "4  book5    5    2    5    3  NaN    5    5    4\n",
      "5  book6  1.5  3.5    1  4.5  NaN  4.5    4  2.5\n",
      "6  book7  2.5  NaN  NaN    4    4    4    5    3\n",
      "7  book8    2    3  NaN    2    1    4  NaN  NaN\n"
     ]
    }
   ],
   "source": [
    "print(df2)"
   ]
  },
  {
   "cell_type": "code",
   "execution_count": 116,
   "metadata": {},
   "outputs": [],
   "source": [
    "Manhattan_distance_p1_p4=distance.cityblock(df2['p1'].astype(float),df2['p4'].astype(float))"
   ]
  },
  {
   "cell_type": "code",
   "execution_count": 117,
   "metadata": {},
   "outputs": [
    {
     "name": "stdout",
     "output_type": "stream",
     "text": [
      "9.0\n"
     ]
    }
   ],
   "source": [
    "print(Manhattan_distance_p1_p4)"
   ]
  },
  {
   "cell_type": "code",
   "execution_count": 118,
   "metadata": {},
   "outputs": [],
   "source": [
    "euclidean_distance_p1_p4=distance.euclidean(df2['p1'].astype(float),df2['p4'].astype(float))"
   ]
  },
  {
   "cell_type": "code",
   "execution_count": 119,
   "metadata": {},
   "outputs": [
    {
     "name": "stdout",
     "output_type": "stream",
     "text": [
      "4.415880433163923\n"
     ]
    }
   ],
   "source": [
    "print(euclidean_distance_p1_p4)"
   ]
  },
  {
   "cell_type": "code",
   "execution_count": 128,
   "metadata": {},
   "outputs": [],
   "source": [
    "df2=df_subset[df_subset[\"p1\"].notnull()]"
   ]
  },
  {
   "cell_type": "code",
   "execution_count": 129,
   "metadata": {},
   "outputs": [],
   "source": [
    "df2=df2[df2[\"p5\"].notnull()]"
   ]
  },
  {
   "cell_type": "code",
   "execution_count": 130,
   "metadata": {},
   "outputs": [
    {
     "name": "stdout",
     "output_type": "stream",
     "text": [
      "    Book   p1   p2   p3   p4 p5   p6   p7   p8\n",
      "1  book2    2  3.5    1    4  4  4.5    2  NaN\n",
      "3  book4  4.5  NaN    3  NaN  4    5    3    5\n",
      "6  book7  2.5  NaN  NaN    4  4    4    5    3\n",
      "7  book8    2    3  NaN    2  1    4  NaN  NaN\n"
     ]
    }
   ],
   "source": [
    "print(df2)"
   ]
  },
  {
   "cell_type": "code",
   "execution_count": 131,
   "metadata": {},
   "outputs": [],
   "source": [
    "Manhattan_distance_p1_p5=distance.cityblock(df2['p1'].astype(float),df2['p5'].astype(float))"
   ]
  },
  {
   "cell_type": "code",
   "execution_count": 132,
   "metadata": {},
   "outputs": [
    {
     "name": "stdout",
     "output_type": "stream",
     "text": [
      "5.0\n"
     ]
    }
   ],
   "source": [
    "print(Manhattan_distance_p1_p5)"
   ]
  },
  {
   "cell_type": "code",
   "execution_count": 134,
   "metadata": {},
   "outputs": [],
   "source": [
    "euclidean_distance_p1_p5=distance.euclidean(df2['p1'].astype(float),df2['p5'].astype(float))"
   ]
  },
  {
   "cell_type": "code",
   "execution_count": 135,
   "metadata": {},
   "outputs": [
    {
     "name": "stdout",
     "output_type": "stream",
     "text": [
      "2.7386127875258306\n"
     ]
    }
   ],
   "source": [
    "print(euclidean_distance_p1_p5)"
   ]
  },
  {
   "cell_type": "code",
   "execution_count": 136,
   "metadata": {},
   "outputs": [],
   "source": [
    "df2=df_subset[df_subset[\"p1\"].notnull()]"
   ]
  },
  {
   "cell_type": "code",
   "execution_count": 137,
   "metadata": {},
   "outputs": [],
   "source": [
    "df2=df2[df2[\"p6\"].notnull()]"
   ]
  },
  {
   "cell_type": "code",
   "execution_count": 138,
   "metadata": {},
   "outputs": [
    {
     "name": "stdout",
     "output_type": "stream",
     "text": [
      "    Book   p1   p2   p3   p4   p5   p6   p7   p8\n",
      "1  book2    2  3.5    1    4    4  4.5    2  NaN\n",
      "3  book4  4.5  NaN    3  NaN    4    5    3    5\n",
      "4  book5    5    2    5    3  NaN    5    5    4\n",
      "5  book6  1.5  3.5    1  4.5  NaN  4.5    4  2.5\n",
      "6  book7  2.5  NaN  NaN    4    4    4    5    3\n",
      "7  book8    2    3  NaN    2    1    4  NaN  NaN\n"
     ]
    }
   ],
   "source": [
    "print(df2)"
   ]
  },
  {
   "cell_type": "code",
   "execution_count": 139,
   "metadata": {},
   "outputs": [],
   "source": [
    "Manhattan_distance_p1_p6=distance.cityblock(df2['p1'].astype(float),df2['p6'].astype(float))"
   ]
  },
  {
   "cell_type": "code",
   "execution_count": 140,
   "metadata": {},
   "outputs": [
    {
     "name": "stdout",
     "output_type": "stream",
     "text": [
      "9.5\n"
     ]
    }
   ],
   "source": [
    "print(Manhattan_distance_p1_p6)"
   ]
  },
  {
   "cell_type": "code",
   "execution_count": 142,
   "metadata": {},
   "outputs": [],
   "source": [
    "euclidean_distance_p1_p6=distance.euclidean(df2['p1'].astype(float),df2['p6'].astype(float))"
   ]
  },
  {
   "cell_type": "code",
   "execution_count": 143,
   "metadata": {},
   "outputs": [
    {
     "name": "stdout",
     "output_type": "stream",
     "text": [
      "4.663689526544408\n"
     ]
    }
   ],
   "source": [
    "print(euclidean_distance_p1_p6)"
   ]
  },
  {
   "cell_type": "code",
   "execution_count": 145,
   "metadata": {},
   "outputs": [],
   "source": [
    "df2=df_subset[df_subset[\"p1\"].notnull()]"
   ]
  },
  {
   "cell_type": "code",
   "execution_count": 146,
   "metadata": {},
   "outputs": [],
   "source": [
    "df2=df2[df2[\"p7\"].notnull()]"
   ]
  },
  {
   "cell_type": "code",
   "execution_count": 147,
   "metadata": {},
   "outputs": [
    {
     "name": "stdout",
     "output_type": "stream",
     "text": [
      "    Book   p1   p2   p3   p4   p5   p6 p7   p8\n",
      "0  book1  3.5    2    5    3  NaN  NaN  5    3\n",
      "1  book2    2  3.5    1    4    4  4.5  2  NaN\n",
      "3  book4  4.5  NaN    3  NaN    4    5  3    5\n",
      "4  book5    5    2    5    3  NaN    5  5    4\n",
      "5  book6  1.5  3.5    1  4.5  NaN  4.5  4  2.5\n",
      "6  book7  2.5  NaN  NaN    4    4    4  5    3\n"
     ]
    }
   ],
   "source": [
    "print(df2)"
   ]
  },
  {
   "cell_type": "code",
   "execution_count": 148,
   "metadata": {},
   "outputs": [],
   "source": [
    "Manhattan_distance_p1_p7=distance.cityblock(df2['p1'].astype(float),df2['p7'].astype(float))"
   ]
  },
  {
   "cell_type": "code",
   "execution_count": 149,
   "metadata": {},
   "outputs": [
    {
     "name": "stdout",
     "output_type": "stream",
     "text": [
      "8.0\n"
     ]
    }
   ],
   "source": [
    "print(Manhattan_distance_p1_p7)"
   ]
  },
  {
   "cell_type": "code",
   "execution_count": 150,
   "metadata": {},
   "outputs": [],
   "source": [
    "euclidean_distance_p1_p7=distance.euclidean(df2['p1'].astype(float),df2['p7'].astype(float))"
   ]
  },
  {
   "cell_type": "code",
   "execution_count": 151,
   "metadata": {},
   "outputs": [
    {
     "name": "stdout",
     "output_type": "stream",
     "text": [
      "4.12310562561766\n"
     ]
    }
   ],
   "source": [
    "print(euclidean_distance_p1_p7)"
   ]
  },
  {
   "cell_type": "code",
   "execution_count": 152,
   "metadata": {},
   "outputs": [],
   "source": [
    "df2=df_subset[df_subset[\"p1\"].notnull()]"
   ]
  },
  {
   "cell_type": "code",
   "execution_count": 153,
   "metadata": {},
   "outputs": [],
   "source": [
    "df2=df2[df2[\"p8\"].notnull()]"
   ]
  },
  {
   "cell_type": "code",
   "execution_count": 154,
   "metadata": {},
   "outputs": [
    {
     "name": "stdout",
     "output_type": "stream",
     "text": [
      "    Book   p1   p2   p3   p4   p5   p6 p7   p8\n",
      "0  book1  3.5    2    5    3  NaN  NaN  5    3\n",
      "3  book4  4.5  NaN    3  NaN    4    5  3    5\n",
      "4  book5    5    2    5    3  NaN    5  5    4\n",
      "5  book6  1.5  3.5    1  4.5  NaN  4.5  4  2.5\n",
      "6  book7  2.5  NaN  NaN    4    4    4  5    3\n"
     ]
    }
   ],
   "source": [
    "print(df2)"
   ]
  },
  {
   "cell_type": "code",
   "execution_count": 157,
   "metadata": {},
   "outputs": [],
   "source": [
    "Manhattan_distance_p1_p8=distance.cityblock(df2['p1'].astype(float),df2['p8'].astype(float))"
   ]
  },
  {
   "cell_type": "code",
   "execution_count": 158,
   "metadata": {},
   "outputs": [
    {
     "name": "stdout",
     "output_type": "stream",
     "text": [
      "3.5\n"
     ]
    }
   ],
   "source": [
    "print(Manhattan_distance_p1_p8)"
   ]
  },
  {
   "cell_type": "code",
   "execution_count": 159,
   "metadata": {},
   "outputs": [],
   "source": [
    "euclidean_distance_p1_p8=distance.euclidean(df2['p1'].astype(float),df2['p8'].astype(float))"
   ]
  },
  {
   "cell_type": "code",
   "execution_count": 160,
   "metadata": {},
   "outputs": [
    {
     "name": "stdout",
     "output_type": "stream",
     "text": [
      "1.6583123951777\n"
     ]
    }
   ],
   "source": [
    "print(euclidean_distance_p1_p8)"
   ]
  },
  {
   "cell_type": "code",
   "execution_count": 226,
   "metadata": {},
   "outputs": [
    {
     "name": "stdout",
     "output_type": "stream",
     "text": [
      "\n",
      "\n",
      "Distance_two_point \t Manhattan_Distance \t Euclidean_Distance \n",
      "\n",
      "p1 to p2 \t\t 9.0 \t\t\t 4.301162633521313 \n",
      "\n",
      "p1 to p3 \t\t 4.5 \t\t\t 2.3979157616563596 \n",
      "\n",
      "p1 to p4 \t\t 9.0 \t\t\t 4.415880433163923 \n",
      "\n",
      "p1 to p5 \t\t 5.0 \t\t\t 2.7386127875258306 \n",
      "\n",
      "p1 to p6 \t\t 9.5 \t\t\t 4.663689526544408 \n",
      "\n",
      "p1 to p7 \t\t 3.5 \t\t\t 4.12310562561766 \n",
      "\n",
      "p1 to p8 \t\t 3.5 \t\t\t 1.6583123951777\n"
     ]
    }
   ],
   "source": [
    "print('\\n')\n",
    "print(\"Distance_two_point\",\"\\t\",\"Manhattan_Distance\",\"\\t\",\"Euclidean_Distance\",'\\n')\n",
    "print(\"p1 to p2\",'\\t\\t',Manhattan_distance_p1_p2,'\\t\\t\\t',euclidean_distance_p1_p2,'\\n')\n",
    "print(\"p1 to p3\",'\\t\\t',Manhattan_distance_p1_p3,'\\t\\t\\t',euclidean_distance_p1_p3,'\\n')\n",
    "print(\"p1 to p4\",'\\t\\t',Manhattan_distance_p1_p4,'\\t\\t\\t',euclidean_distance_p1_p4,'\\n')\n",
    "print(\"p1 to p5\",'\\t\\t',Manhattan_distance_p1_p5,'\\t\\t\\t',euclidean_distance_p1_p5,'\\n')\n",
    "print(\"p1 to p6\",'\\t\\t',Manhattan_distance_p1_p6,'\\t\\t\\t',euclidean_distance_p1_p6,'\\n')\n",
    "print(\"p1 to p7\",'\\t\\t',Manhattan_distance_p1_p7,'\\t\\t\\t',euclidean_distance_p1_p7,'\\n')\n",
    "print(\"p1 to p8\",'\\t\\t',Manhattan_distance_p1_p8,'\\t\\t\\t',euclidean_distance_p1_p8)"
   ]
  },
  {
   "cell_type": "code",
   "execution_count": 227,
   "metadata": {},
   "outputs": [
    {
     "name": "stdout",
     "output_type": "stream",
     "text": [
      "The lowest distance between p1 to p8 in Manhatan distance and Euclidean distance are 3.5 and 1.6583123951777 respectively\n"
     ]
    }
   ],
   "source": [
    "print(\"The lowest distance between p1 to p8 in Manhatan distance and Euclidean distance are\",Manhattan_distance_p1_p8,\"and\",euclidean_distance_p1_p8,\"respectively\")"
   ]
  },
  {
   "cell_type": "code",
   "execution_count": null,
   "metadata": {},
   "outputs": [],
   "source": []
  }
 ],
 "metadata": {
  "kernelspec": {
   "display_name": "Python 3",
   "language": "python",
   "name": "python3"
  },
  "language_info": {
   "codemirror_mode": {
    "name": "ipython",
    "version": 3
   },
   "file_extension": ".py",
   "mimetype": "text/x-python",
   "name": "python",
   "nbconvert_exporter": "python",
   "pygments_lexer": "ipython3",
   "version": "3.8.5"
  }
 },
 "nbformat": 4,
 "nbformat_minor": 4
}
